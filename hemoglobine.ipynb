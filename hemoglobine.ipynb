{
  "metadata": {
    "kernelspec": {
      "language": "python",
      "display_name": "Python 3",
      "name": "python3"
    },
    "language_info": {
      "name": "python",
      "version": "3.10.13",
      "mimetype": "text/x-python",
      "codemirror_mode": {
        "name": "ipython",
        "version": 3
      },
      "pygments_lexer": "ipython3",
      "nbconvert_exporter": "python",
      "file_extension": ".py"
    },
    "kaggle": {
      "accelerator": "none",
      "dataSources": [
        {
          "sourceId": 8395079,
          "sourceType": "datasetVersion",
          "datasetId": 4994222
        }
      ],
      "dockerImageVersionId": 30698,
      "isInternetEnabled": false,
      "language": "python",
      "sourceType": "notebook",
      "isGpuEnabled": false
    },
    "colab": {
      "name": "notebook6efd561594",
      "provenance": []
    }
  },
  "nbformat_minor": 0,
  "nbformat": 4,
  "cells": [
    {
      "source": [
        "# IMPORTANT: RUN THIS CELL IN ORDER TO IMPORT YOUR KAGGLE DATA SOURCES,\n",
        "# THEN FEEL FREE TO DELETE THIS CELL.\n",
        "# NOTE: THIS NOTEBOOK ENVIRONMENT DIFFERS FROM KAGGLE'S PYTHON\n",
        "# ENVIRONMENT SO THERE MAY BE MISSING LIBRARIES USED BY YOUR\n",
        "# NOTEBOOK.\n",
        "import kagglehub\n",
        "ehababoelnaga_anemia_types_classification_path = kagglehub.dataset_download('ehababoelnaga/anemia-types-classification')\n",
        "\n",
        "print('Data source import complete.')\n"
      ],
      "metadata": {
        "id": "IoombIPi6juV"
      },
      "cell_type": "code",
      "outputs": [],
      "execution_count": null
    },
    {
      "cell_type": "code",
      "source": [],
      "metadata": {
        "execution": {
          "iopub.status.busy": "2024-05-15T03:57:04.979266Z",
          "iopub.execute_input": "2024-05-15T03:57:04.979653Z",
          "iopub.status.idle": "2024-05-15T03:57:04.988953Z",
          "shell.execute_reply.started": "2024-05-15T03:57:04.979625Z",
          "shell.execute_reply": "2024-05-15T03:57:04.987438Z"
        },
        "trusted": true,
        "id": "8CCBXkxn6juZ"
      },
      "outputs": [],
      "execution_count": null
    },
    {
      "cell_type": "markdown",
      "source": [
        "![](http://)![OIP (4).jpeg](attachment:cd2166c8-ce88-4dfc-b22a-08e2e82b1cfb.jpeg)"
      ],
      "metadata": {
        "id": "Y1PcA8hX6jua"
      }
    },
    {
      "cell_type": "markdown",
      "source": [
        "# About dataset"
      ],
      "metadata": {
        "id": "lld1V4IT6jub"
      }
    },
    {
      "cell_type": "markdown",
      "source": [
        "1. About Dataset\n",
        "1. CBC data labeled with the diagnosis of Anemia type, The data collected among several CBCs data and diagnosed manually\n",
        "1.\n",
        "1. Data Dictionary:\n",
        "1. HGB: The amount of hemoglobin in the blood, crucial for oxygen transport.\n",
        "1. PlT: The number of platelets in the blood, involved in blood clotting.\n",
        "1. WBC: The count of white blood cells, vital for immune response.\n",
        "1. RBC: The count of red blood cells, responsible for oxygen transport.\n",
        "1. MCV (Mean Corpuscular Volume): Average volume of a single red blood cell.\n",
        "1. MCH (Mean Corpuscular Hemoglobin): Average amount of hemoglobin per red blood cell.\n",
        "1. MCHC (Mean Corpuscular Hemoglobin Concentration): Average concentration of hemoglobin in red blood cells.\n",
        "1. PDW: a measurement of the variability in platelet size distribution in the blood\n",
        "1. PCT: A procalcitonin test can help your health care provider diagnose if you have sepsis from a bacterial infection or if you have a high risk of developing sepsis\n",
        "1. Diagnosis: Anemia type based on the CBC parameters"
      ],
      "metadata": {
        "id": "uZDCBmT76juc"
      }
    },
    {
      "cell_type": "code",
      "source": [
        "import pandas as pd\n",
        "import matplotlib.pyplot as plt\n",
        "import seaborn as sns\n",
        "import numpy as np\n",
        "\n",
        "import warnings\n"
      ],
      "metadata": {
        "trusted": true,
        "execution": {
          "iopub.status.busy": "2025-04-09T09:02:07.96219Z",
          "iopub.execute_input": "2025-04-09T09:02:07.962526Z",
          "iopub.status.idle": "2025-04-09T09:02:10.685646Z",
          "shell.execute_reply.started": "2025-04-09T09:02:07.962481Z",
          "shell.execute_reply": "2025-04-09T09:02:10.6842Z"
        },
        "id": "B8-ShVdp6juc"
      },
      "outputs": [],
      "execution_count": null
    },
    {
      "cell_type": "code",
      "source": [
        "from sklearn.ensemble import RandomForestClassifier\n",
        "from sklearn.neighbors import KNeighborsClassifier\n",
        "from sklearn.linear_model import LogisticRegression\n",
        "from sklearn.ensemble import GradientBoostingClassifier\n",
        "\n",
        "df = pd.read_csv('/kaggle/input/anemia-types-classification/diagnosed_cbc_data_v4.csv')\n",
        "x = df.drop(columns = ['Diagnosis'])\n",
        "y = df['Diagnosis']\n",
        "from sklearn.preprocessing import LabelEncoder\n",
        "label_encoder = LabelEncoder()\n",
        "y_label = label_encoder.fit_transform(y)\n",
        "from sklearn.model_selection import train_test_split\n",
        "x_train,x_test,y_train,y_test = train_test_split(x,y_label,test_size =0.2,random_state =43)\n",
        "estimators = [\n",
        "    ('rf', RandomForestClassifier(n_estimators=10, random_state=42)),\n",
        "    ('knn', KNeighborsClassifier(n_neighbors=10)),\n",
        "    ('gbdt',GradientBoostingClassifier())\n",
        "]\n",
        "from sklearn.ensemble import StackingClassifier\n",
        "\n",
        "clf = StackingClassifier(\n",
        "    estimators=estimators,\n",
        "    final_estimator=LogisticRegression(),\n",
        "    cv=10\n",
        ")\n",
        "clf.fit(x_train,y_train)\n",
        "y_pred = clf.predict(x_test)\n",
        "from sklearn.metrics import accuracy_score\n",
        "accuracy_score(y_test,y_pred)\n",
        "import xgboost as xgb\n",
        "xgb_model = xgb.XGBClassifier()\n",
        "xgb_model.fit(x_train, y_train)\n",
        "y_pred = xgb_model.predict(x_test)\n",
        "accuracy = accuracy_score(y_test, y_pred)\n",
        "print(\"Accuracy:\", accuracy)"
      ],
      "metadata": {
        "trusted": true,
        "execution": {
          "iopub.status.busy": "2025-04-09T09:09:06.58182Z",
          "iopub.execute_input": "2025-04-09T09:09:06.583917Z",
          "iopub.status.idle": "2025-04-09T09:09:38.159882Z",
          "shell.execute_reply.started": "2025-04-09T09:09:06.583863Z",
          "shell.execute_reply": "2025-04-09T09:09:38.158859Z"
        },
        "id": "-zloK3Vg6jud"
      },
      "outputs": [],
      "execution_count": null
    },
    {
      "cell_type": "markdown",
      "source": [
        "# Thank you for reading. If you like this notebook, please upvote."
      ],
      "metadata": {
        "id": "lOjFgPpM6jue"
      }
    },
    {
      "cell_type": "code",
      "source": [
        "import pickle\n",
        "filename = 'finalized_model.pkl'\n",
        "pickle.dump(xgb_model, open(filename, 'wb'))"
      ],
      "metadata": {
        "trusted": true,
        "execution": {
          "iopub.status.busy": "2025-04-09T09:06:13.655344Z",
          "iopub.execute_input": "2025-04-09T09:06:13.65574Z",
          "iopub.status.idle": "2025-04-09T09:06:13.674975Z",
          "shell.execute_reply.started": "2025-04-09T09:06:13.655714Z",
          "shell.execute_reply": "2025-04-09T09:06:13.674102Z"
        },
        "id": "SHrob8O16jue"
      },
      "outputs": [],
      "execution_count": null
    },
    {
      "cell_type": "code",
      "source": [
        "import numpy as np\n",
        "feature_names = x.columns.tolist()\n",
        "filename = '/kaggle/working/finalized_model.pkl'\n",
        "model = pickle.load(open(filename, 'rb'))\n",
        "def get_user_input():\n",
        "    user_input = []\n",
        "    print(\"Please enter the following values:\")\n",
        "    for feature in feature_names:\n",
        "        value = float(input(f\"{feature}: \"))\n",
        "        user_input.append(value)\n",
        "    return np.array(user_input).reshape(1, -1)\n",
        "input_features = get_user_input()\n",
        "predicted_class = xgb_model.predict(input_features)\n",
        "predicted_label = label_encoder.inverse_transform(predicted_class)\n",
        "print(\"\\nPredicted Diagnosis:\", predicted_label[0])"
      ],
      "metadata": {
        "trusted": true,
        "execution": {
          "iopub.status.busy": "2025-04-09T09:10:33.904864Z",
          "iopub.execute_input": "2025-04-09T09:10:33.90538Z",
          "iopub.status.idle": "2025-04-09T09:12:52.458915Z",
          "shell.execute_reply.started": "2025-04-09T09:10:33.905346Z",
          "shell.execute_reply": "2025-04-09T09:12:52.456328Z"
        },
        "id": "eQxr-QHH6juf"
      },
      "outputs": [],
      "execution_count": null
    },
    {
      "cell_type": "code",
      "source": [
        "df = pd.read_csv('/kaggle/input/anemia-types-classification/diagnosed_cbc_data_v4.csv')\n",
        "x = df.drop(columns=['Diagnosis'])\n",
        "x.columns.tolist()"
      ],
      "metadata": {
        "trusted": true,
        "execution": {
          "iopub.status.busy": "2025-04-09T09:18:02.326317Z",
          "iopub.execute_input": "2025-04-09T09:18:02.32681Z",
          "iopub.status.idle": "2025-04-09T09:18:02.358567Z",
          "shell.execute_reply.started": "2025-04-09T09:18:02.326775Z",
          "shell.execute_reply": "2025-04-09T09:18:02.357306Z"
        },
        "id": "bT170RBn6juf"
      },
      "outputs": [],
      "execution_count": null
    },
    {
      "cell_type": "code",
      "source": [],
      "metadata": {
        "trusted": true,
        "id": "sDZSemg76jug"
      },
      "outputs": [],
      "execution_count": null
    }
  ]
}